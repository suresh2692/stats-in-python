{
 "cells": [
  {
   "cell_type": "markdown",
   "metadata": {},
   "source": [
    "## Populations VS Samples\n",
    "\n",
    "In statistics we usually take few **_samples_** of data and draw conclusion about **population** of data.\n",
    "\n",
    "### The main difference is that\n",
    "\n",
    "- **population** - Includes all of the elements from a set of data.\n",
    "- **Sample**     - Consists of one or more observations from the population."
   ]
  },
  {
   "cell_type": "markdown",
   "metadata": {},
   "source": [
    "## 1.Probability Distribution (pdf)\n",
    "The mathematical tools to describe the distribution of numerical data in populations\n",
    "and samples are probability distributions."
   ]
  },
  {
   "cell_type": "markdown",
   "metadata": {},
   "source": [
    "### 1.1 Discrete Distributions\n",
    "The probability distribution for **categorical variables**.\n",
    "Ex:- pdf for a rolling die. P(i) = 1/6\n",
    "\n",
    "- In discrete distribution, the P(i) is called _**probability mass function**_."
   ]
  },
  {
   "cell_type": "markdown",
   "metadata": {},
   "source": [
    "### 1.1 Continuous Distributions\n",
    "The probability distribution for **continuous variables**.\n",
    "Ex:- weight of a person. \n",
    "\n",
    "- In continuous distribution, the P(i) is called _**probability density function**_."
   ]
  },
  {
   "cell_type": "markdown",
   "metadata": {},
   "source": [
    "## 2. Expected Value E[X]\n",
    "\n",
    "- ### for **continuous distribution** \n",
    "            E[x] = (integral of x)\n",
    "            \n",
    "- ### for **discrete distribution**\n",
    "            E[x] = (sum of possible values(P(i)))"
   ]
  },
  {
   "cell_type": "markdown",
   "metadata": {},
   "source": [
    "- **expected value** ----> observed value in _population_.\n",
    "- **sample mean** ----> observed mean value in _sample data_.\n",
    "\n",
    "for **accurate model**, _sample mean ~= expected value_"
   ]
  },
  {
   "cell_type": "markdown",
   "metadata": {},
   "source": [
    "## 3. Variance\n",
    " \n",
    "The variability of the data is characterized by the variance of the data:\n",
    "\n",
    "Var(X) = E(E(X - E(X))^2) "
   ]
  },
  {
   "cell_type": "markdown",
   "metadata": {},
   "source": [
    "## Degrees of Freedom (dof)\n",
    "'n' values will have 'n' degrees of freedom, if we subract each value from mean then remaining data will have only _n-1_ dof. Example\n",
    "\n",
    "__find__:- \n",
    "- val2 (value of sample2)\n",
    "\n",
    "__given__ :-\n",
    "- mean\n",
    "- val1 (value of sample1)\n",
    "\n",
    "__soln__ :-\n",
    "\n",
    "val2 = 2 * mean - val1"
   ]
  },
  {
   "cell_type": "code",
   "execution_count": null,
   "metadata": {
    "collapsed": true
   },
   "outputs": [],
   "source": []
  }
 ],
 "metadata": {
  "kernelspec": {
   "display_name": "Python 3",
   "language": "python",
   "name": "python3"
  },
  "language_info": {
   "codemirror_mode": {
    "name": "ipython",
    "version": 3
   },
   "file_extension": ".py",
   "mimetype": "text/x-python",
   "name": "python",
   "nbconvert_exporter": "python",
   "pygments_lexer": "ipython3",
   "version": "3.5.2"
  }
 },
 "nbformat": 4,
 "nbformat_minor": 0
}
