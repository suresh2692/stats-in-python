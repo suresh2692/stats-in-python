{
 "cells": [
  {
   "cell_type": "markdown",
   "metadata": {},
   "source": [
    "# Distributions of One Variable\n",
    "## 1. Univariate Distributions\n",
    "- **Discrete distributions** - observations can take only integer values(e.g., no:of children).\n",
    "- **Continuous distributions** - observation variables are float values(e.g., weight of person)."
   ]
  },
  {
   "cell_type": "markdown",
   "metadata": {},
   "source": [
    "## 2. Characterizing a distribution\n",
    "- **mean** - \n",
    "when we talk about the mean value we refer to the arithmetic mean of array"
   ]
  },
  {
   "cell_type": "code",
   "execution_count": 10,
   "metadata": {
    "collapsed": false
   },
   "outputs": [
    {
     "data": {
      "text/plain": [
       "4.5"
      ]
     },
     "execution_count": 10,
     "metadata": {},
     "output_type": "execute_result"
    }
   ],
   "source": [
    "import numpy as np\n",
    "x = np.arange(10)\n",
    "np.mean(x)\n",
    "\n",
    "# if array contains nan values\n",
    "xWithNan = np.hstack( (x, np.nan) ) \n",
    "\n",
    "np.nanmean(xWithNan)\n"
   ]
  },
  {
   "cell_type": "markdown",
   "metadata": {},
   "source": [
    "- **Median** -is the value that comes half-way when the data are ranked in order. "
   ]
  },
  {
   "cell_type": "code",
   "execution_count": 11,
   "metadata": {
    "collapsed": false
   },
   "outputs": [
    {
     "data": {
      "text/plain": [
       "4.5"
      ]
     },
     "execution_count": 11,
     "metadata": {},
     "output_type": "execute_result"
    }
   ],
   "source": [
    "\n",
    "np.median(x)"
   ]
  },
  {
   "cell_type": "markdown",
   "metadata": {},
   "source": [
    "- **Mode** - the most frequently occurring value in a distribution"
   ]
  },
  {
   "cell_type": "code",
   "execution_count": 8,
   "metadata": {
    "collapsed": false
   },
   "outputs": [
    {
     "data": {
      "text/plain": [
       "ModeResult(mode=array([4]), count=array([2]))"
      ]
     },
     "execution_count": 8,
     "metadata": {},
     "output_type": "execute_result"
    }
   ],
   "source": [
    "from scipy import stats\n",
    "data = [1, 3, 4, 4, 7]\n",
    "stats.mode(data)"
   ]
  },
  {
   "cell_type": "markdown",
   "metadata": {},
   "source": [
    "- **Geometric Mean** - nth square of product of all numbers in array"
   ]
  },
  {
   "cell_type": "code",
   "execution_count": 20,
   "metadata": {
    "collapsed": false
   },
   "outputs": [
    {
     "name": "stdout",
     "output_type": "stream",
     "text": [
      "stats method 4.1471662744\n",
      "traced method 4.1471662744\n"
     ]
    }
   ],
   "source": [
    "gx = np.arange(1,10) # have to be only positive values\n",
    "print('stats method',stats.gmean(gx))\n",
    "\n",
    "# another method to trace\n",
    "\n",
    "from functools import reduce\n",
    "\n",
    "t_val = np.power(reduce(lambda x,y:x*y,gx),1/len(gx))\n",
    "print('traced method',t_val)\n",
    "\n"
   ]
  },
  {
   "cell_type": "markdown",
   "metadata": {},
   "source": [
    "## 3. Quatifying variability\n",
    "\n",
    "- **Range** - it is simply the difference between the highest and the lowest data value"
   ]
  },
  {
   "cell_type": "code",
   "execution_count": 16,
   "metadata": {
    "collapsed": false
   },
   "outputs": [
    {
     "data": {
      "text/plain": [
       "9"
      ]
     },
     "execution_count": 16,
     "metadata": {},
     "output_type": "execute_result"
    }
   ],
   "source": [
    "range = np.ptp(x) # ptp - peak to peak\n",
    "range"
   ]
  },
  {
   "cell_type": "markdown",
   "metadata": {},
   "source": [
    "**Percentiles** - The simplest way to understand centiles, also called percentiles,is to ﬁrst deﬁne the _Cumulative Distribution Function (CDF)_\n",
    "\n",
    " - **_cdf_** - it is the integral of _PDF_ from minus inﬁnity up to the given value.and thus speciﬁes the percentage of the data that lie below this value.\n",
    " - Knowing the CDF simpliﬁes the calculation of how likely it is to ﬁnd a value x within the range a to b.\n",
    " - The probability to ﬁnd a value between a and b is given by the integral over the PDF in that range , and can be found by the difference of the corresponding CDF-values\n",
    "         CDF(b) - CDF(a) \n",
    "\n",
    " - For **discrete distributions**, the integral has to be replaced by a sum.\n",
    " \n",
    "Therefore, **percentiles** are just the _inverse of CDF_ and gives the value below which a given percentage of the data values occur."
   ]
  },
  {
   "cell_type": "markdown",
   "metadata": {},
   "source": [
    "### Infer from percentiles\n",
    "\n",
    "- To ﬁnd the range which includes 95 % of the data, one has to ﬁnd the **2:5th and the 97:5th percentile** of the sample distribution.\n",
    "- The _50th percentile_ is the **median**.\n",
    "- Also important are the **quartiles**, i.e., the _25th and the 75th percentile_. The difference between them is called the inter-quartile range (IQR).\n",
    "\n"
   ]
  }
 ],
 "metadata": {
  "kernelspec": {
   "display_name": "Python 3",
   "language": "python",
   "name": "python3"
  },
  "language_info": {
   "codemirror_mode": {
    "name": "ipython",
    "version": 3
   },
   "file_extension": ".py",
   "mimetype": "text/x-python",
   "name": "python",
   "nbconvert_exporter": "python",
   "pygments_lexer": "ipython3",
   "version": "3.5.2"
  }
 },
 "nbformat": 4,
 "nbformat_minor": 0
}
